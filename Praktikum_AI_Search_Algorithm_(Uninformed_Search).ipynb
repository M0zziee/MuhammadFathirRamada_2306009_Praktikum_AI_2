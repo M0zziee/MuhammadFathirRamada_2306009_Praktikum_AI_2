{
  "nbformat": 4,
  "nbformat_minor": 0,
  "metadata": {
    "colab": {
      "provenance": [],
      "authorship_tag": "ABX9TyPSLHSrpseP3GAUF1h0raD9",
      "include_colab_link": true
    },
    "kernelspec": {
      "name": "python3",
      "display_name": "Python 3"
    },
    "language_info": {
      "name": "python"
    }
  },
  "cells": [
    {
      "cell_type": "markdown",
      "metadata": {
        "id": "view-in-github",
        "colab_type": "text"
      },
      "source": [
        "<a href=\"https://colab.research.google.com/github/M0zziee/MuhammadFathirRamada_2306009_Praktikum_AI_2/blob/main/Praktikum_AI_Search_Algorithm_(Uninformed_Search).ipynb\" target=\"_parent\"><img src=\"https://colab.research.google.com/assets/colab-badge.svg\" alt=\"Open In Colab\"/></a>"
      ]
    },
    {
      "cell_type": "markdown",
      "source": [
        "DFS"
      ],
      "metadata": {
        "id": "LNPYBrLNNpfC"
      }
    },
    {
      "cell_type": "code",
      "execution_count": null,
      "metadata": {
        "colab": {
          "base_uri": "https://localhost:8080/"
        },
        "id": "4lTymrZmLpFC",
        "outputId": "4990733e-2ea2-4787-bdf3-7e8f0f47f222"
      },
      "outputs": [
        {
          "output_type": "stream",
          "name": "stdout",
          "text": [
            "Berikut adalah Penelusuran Depth First(dimulai dari node 2)\n",
            "2 0 1 3 "
          ]
        }
      ],
      "source": [
        "from collections import defaultdict\n",
        "\n",
        "class Graph:\n",
        "    def __init__(self):\n",
        "        self.graph = defaultdict(list)\n",
        "\n",
        "    def add_edge(self, u, v):\n",
        "        self.graph[u].append(v)\n",
        "\n",
        "    def DFSUtil(self, v, visited):\n",
        "        visited.add(v)\n",
        "        print(v, end=' ')\n",
        "\n",
        "        for neighbour in self.graph[v]:\n",
        "            if neighbour not in visited:\n",
        "                self.DFSUtil(neighbour, visited)\n",
        "\n",
        "    def DFS(self, v):\n",
        "        visited = set()\n",
        "        self.DFSUtil(v, visited)\n",
        "if __name__ == \"__main__\":\n",
        "    g = Graph()\n",
        "    g.add_edge(0, 1) # Changed addEdge to add_edge\n",
        "    g.add_edge(0, 2) # Changed addEdge to add_edge\n",
        "    g.add_edge(1, 2) # Changed addEdge to add_edge\n",
        "    g.add_edge(2, 0) # Changed addEdge to add_edge\n",
        "    g.add_edge(2, 3) # Changed addEdge to add_edge\n",
        "    g.add_edge(3, 3) # Changed addEdge to add_edge\n",
        "\n",
        "    print(\"Berikut adalah Penelusuran Depth First(dimulai dari node 2)\")\n",
        "    g.DFS(2)\n"
      ]
    },
    {
      "cell_type": "markdown",
      "source": [
        "BFS"
      ],
      "metadata": {
        "id": "O75W1cI2NsN6"
      }
    },
    {
      "cell_type": "code",
      "source": [
        "import collections\n",
        "def bfs(graph, root):\n",
        "  visited, queue = set(), collections.deque([root])\n",
        "  visited.add(root)\n",
        "\n",
        "  while queue:\n",
        "    vertex = queue.popleft()\n",
        "    print(str(vertex) + \" \", end=\"\")\n",
        "\n",
        "    for neighbour in graph[vertex]:\n",
        "      if neighbour not in visited:\n",
        "        visited.add(neighbour)\n",
        "        queue.append(neighbour)\n",
        "if __name__ == '__main__':\n",
        "  graph = {0: [1, 2], 1: [2], 2: [3], 3: [1, 2]}\n",
        "  print(\"Hasil penelusuran graf menggunakan BFS:\")\n",
        "  bfs(graph, 0)"
      ],
      "metadata": {
        "colab": {
          "base_uri": "https://localhost:8080/"
        },
        "id": "1-n1Y5uZNi1L",
        "outputId": "24c0c81c-6892-4eac-8a25-aa8a33b5e182"
      },
      "execution_count": null,
      "outputs": [
        {
          "output_type": "stream",
          "name": "stdout",
          "text": [
            "Hasil penelusuran graf menggunakan BFS:\n",
            "0 1 2 3 "
          ]
        }
      ]
    },
    {
      "cell_type": "markdown",
      "source": [
        "UFS"
      ],
      "metadata": {
        "id": "c7zEYCQBOCkS"
      }
    },
    {
      "cell_type": "code",
      "source": [
        "def uniform_cost_search(goal, start):\n",
        "  global graph,cost\n",
        "  answer = []\n",
        "\n",
        "  queue= []\n",
        "\n",
        "  for i in range(len(goal)):\n",
        "    answer.append(10**8)\n",
        "\n",
        "  queue.append([0,start])\n",
        "\n",
        "  visited = {}\n",
        "  count=0\n",
        "\n",
        "  while (len(queue) > 0):\n",
        "    queue = sorted(queue)\n",
        "    p = queue[-1]\n",
        "\n",
        "    del queue[-1]\n",
        "\n",
        "    p[0] *= -1\n",
        "\n",
        "    if (p[1] in goal):\n",
        "      index = goal.index(p[1])\n",
        "\n",
        "      if (answer[index] == 10**8):\n",
        "        count += 1\n",
        "\n",
        "      if (answer[index] > p[0]):\n",
        "        answer[index] = p[0]\n",
        "\n",
        "      del queue[-1]\n",
        "\n",
        "      queue = sorted(queue)\n",
        "      if (count == len(goal)):\n",
        "        return answer\n",
        "\n",
        "      if (p[1] not in visited):\n",
        "        for i in range(len(graph[p[1]])):\n",
        "          queue.append([(p[0] + cost[(p[1], graph[p[1]][i])]) * -1, graph[p[1]][i]])\n",
        "\n",
        "      visited[p[1]] = 1\n",
        "\n",
        "  return answer\n",
        "\n",
        "if __name__ == '__main__':\n",
        "  graph,cost = [[] for i in range(8)],{}\n",
        "\n",
        "  graph[0].append(1)\n",
        "  graph[0].append(3)\n",
        "  graph[3].append(1)\n",
        "  graph[3].append(6)\n",
        "  graph[3].append(4)\n",
        "  graph[1].append(6)\n",
        "  graph[4].append(2)\n",
        "  graph[4].append(5)\n",
        "  graph[2].append(1)\n",
        "  graph[5].append(2)\n",
        "  graph[5].append(6)\n",
        "  graph[6].append(4)\n",
        "\n",
        "  cost[(0, 1)] = 2\n",
        "  cost[(0, 3)] = 5\n",
        "  cost[(3, 1)] = 5\n",
        "  cost[(3, 6)] = 6\n",
        "  cost[(3, 4)] = 2\n",
        "  cost[(1, 6)] = 1\n",
        "  cost[(2, 1)] = 4\n",
        "  cost[(4, 2)] = 4\n",
        "  cost[(4, 5)] = 3\n",
        "  cost[(5, 2)] = 6\n",
        "  cost[(5, 6)] = 3\n",
        "  cost[(6, 4)] = 7\n",
        "\n",
        "  goal =[]\n",
        "\n",
        "  goal.append(6)\n",
        "\n",
        "  answer = uniform_cost_search(goal, 0)\n",
        "\n",
        "  print(\"Minimum cost from 0 to 6 is = \",answer[0])\n"
      ],
      "metadata": {
        "colab": {
          "base_uri": "https://localhost:8080/"
        },
        "id": "KaGLrD6_OFYa",
        "outputId": "330d54ef-de7f-4ba0-84d3-51578c10baad"
      },
      "execution_count": null,
      "outputs": [
        {
          "output_type": "stream",
          "name": "stdout",
          "text": [
            "Minimum cost from 0 to 6 is =  100000000\n"
          ]
        }
      ]
    },
    {
      "cell_type": "code",
      "source": [
        "import networkx as nx\n",
        "\n",
        "def uniform_cost_search(graph, start, goal):\n",
        "    \"\"\"\n",
        "    Performs Uniform Cost Search on a graph.\n",
        "\n",
        "    Args:\n",
        "        graph: A NetworkX graph.\n",
        "        start: The starting node.\n",
        "        goal: The goal node.\n",
        "\n",
        "    Returns:\n",
        "        The minimum cost from start to goal, or None if no path exists.\n",
        "    \"\"\"\n",
        "\n",
        "    # Initialize priority queue and visited set\n",
        "    queue = [(0, start, [])]  # (cost, node, path)\n",
        "    visited = set()\n",
        "\n",
        "    while queue:\n",
        "        cost, node, path = min(queue, key=lambda item: item[0]) # Get item with min cost\n",
        "        queue.remove((cost, node, path)) # Remove the selected item from queue\n",
        "\n",
        "        if node == goal:\n",
        "            return cost, path + [node]  # Return cost and path if goal is reached\n",
        "\n",
        "        if node in visited:\n",
        "            continue\n",
        "\n",
        "        visited.add(node)\n",
        "\n",
        "        # Explore neighbors\n",
        "        for neighbor in graph.neighbors(node):\n",
        "            if neighbor not in visited:\n",
        "                edge_cost = graph[node][neighbor]['weight']\n",
        "                queue.append((cost + edge_cost, neighbor, path + [node]))\n",
        "\n",
        "    return None, None  # No path found\n",
        "\n",
        "\n",
        "if __name__ == '__main__':\n",
        "    # Create the graph using NetworkX\n",
        "    graph = nx.Graph()\n",
        "    edges = [\n",
        "        (0, 1, {'weight': 2}),\n",
        "        (0, 3, {'weight': 5}),\n",
        "        (3, 1, {'weight': 5}),\n",
        "        (3, 6, {'weight': 6}),\n",
        "        (3, 4, {'weight': 2}),\n",
        "        (1, 6, {'weight': 1}),\n",
        "        (4, 2, {'weight': 4}),\n",
        "        (4, 5, {'weight': 3}),\n",
        "        (2, 1, {'weight': 4}),\n",
        "        (5, 2, {'weight': 6}),\n",
        "        (5, 6, {'weight': 3}),\n",
        "        (6, 4, {'weight': 7})\n",
        "    ]\n",
        "    graph.add_edges_from(edges)\n",
        "\n",
        "    # Perform UCS\n",
        "    start_node = 0\n",
        "    goal_node = 6\n",
        "    cost, path = uniform_cost_search(graph, start_node, goal_node)\n",
        "\n",
        "    if cost is not None:\n",
        "        print(f\"Minimum cost from {start_node} to {goal_node} is: {cost}\")\n",
        "        print(f\"Path: {path}\")\n",
        "    else:\n",
        "        print(f\"No path found from {start_node} to {goal_node}\")"
      ],
      "metadata": {
        "colab": {
          "base_uri": "https://localhost:8080/"
        },
        "id": "mhir2Gi6Ux4s",
        "outputId": "1f7fee4d-516d-4624-fe93-1a374121a4a7"
      },
      "execution_count": null,
      "outputs": [
        {
          "output_type": "stream",
          "name": "stdout",
          "text": [
            "Minimum cost from 0 to 6 is: 3\n",
            "Path: [0, 1, 6]\n"
          ]
        }
      ]
    },
    {
      "cell_type": "markdown",
      "source": [
        "Kode Greedy Search"
      ],
      "metadata": {
        "id": "9OyidjIqRCgW"
      }
    },
    {
      "cell_type": "code",
      "source": [
        "from queue import PriorityQueue\n",
        "def greedy_search(graph, start, goal):\n",
        "  frontier = PriorityQueue()\n",
        "  frontier.put((0, start))\n",
        "  explored = set()\n",
        "\n",
        "  while not frontier.empty():\n",
        "    current_node = frontier.get()\n",
        "\n",
        "    if current_node == goal:\n",
        "      return explored\n",
        "\n",
        "    explored.add(current_node)\n",
        "    for neighbor in graph[current_node]:\n",
        "      if neighbor not in explored:\n",
        "        frontier.put(neighbor, priority)\n",
        "print(\"simpul tujuan tidak ditemukan\")\n",
        "return False\n",
        "\n",
        "heuristic = {\n",
        "    'A': 9,\n",
        "    'B': 4,\n",
        "    'C': 2,\n",
        "    'D': 5,\n",
        "    'E': 3,\n",
        "    'S': 7,\n",
        "    'G': 0,\n",
        "}\n",
        "\n",
        "graph = {\n",
        "    'S':{'A', 'E'},\n",
        "    'A':{'B', 'C'},\n",
        "    'B':{'D'},\n",
        "    'C':{'G'},\n",
        "    'D':{'G'},\n",
        "    'E':{'D'}\n",
        "}\n",
        "\n",
        "start_node = 'S'\n",
        "goal_node = 'G'\n",
        "\n",
        "greedy_search(graph, start_node, goal_node)\n"
      ],
      "metadata": {
        "id": "4Eo07jnWRBfn"
      },
      "execution_count": null,
      "outputs": []
    }
  ]
}